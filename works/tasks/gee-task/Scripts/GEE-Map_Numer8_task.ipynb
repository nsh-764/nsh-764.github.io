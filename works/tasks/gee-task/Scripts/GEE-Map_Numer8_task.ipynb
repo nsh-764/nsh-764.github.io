{
 "cells": [
  {
   "cell_type": "code",
   "execution_count": null,
   "metadata": {
    "ExecuteTime": {
     "end_time": "2020-11-23T03:05:43.369132Z",
     "start_time": "2020-11-23T03:05:39.367034Z"
    },
    "cell_style": "center"
   },
   "outputs": [],
   "source": [
    "# Import geemap for mapping\n",
    "import subprocess\n",
    "\n",
    "try:\n",
    "    import geemap\n",
    "except ImportError:\n",
    "    print('geemap package not installed. Installing ...')\n",
    "    subprocess.check_call([\"python\", '-m', 'pip', 'install', 'geemap'])\n",
    "\n",
    "try:\n",
    "    import google.colab\n",
    "    import geemap.eefolium as emap\n",
    "except:\n",
    "    import geemap as emap\n",
    "\n",
    "# Authenticates and initializes Earth Engine\n",
    "import ee\n",
    "import datetime\n",
    "\n",
    "try:\n",
    "    ee.Initialize()\n",
    "except Exception as e:\n",
    "    ee.Authenticate()\n",
    "    ee.Initialize()\n",
    "\n",
    "import os\n",
    "from glob import glob\n",
    "from rich.progress import track\n",
    "    "
   ]
  },
  {
   "cell_type": "code",
   "execution_count": 40,
   "metadata": {
    "ExecuteTime": {
     "end_time": "2020-11-23T03:16:12.608808Z",
     "start_time": "2020-11-23T03:16:12.604974Z"
    },
    "cell_style": "center"
   },
   "outputs": [],
   "source": [
    "import zipfile"
   ]
  },
  {
   "cell_type": "code",
   "execution_count": 2,
   "metadata": {
    "ExecuteTime": {
     "end_time": "2020-11-23T02:40:49.067539Z",
     "start_time": "2020-11-23T02:40:49.056728Z"
    }
   },
   "outputs": [],
   "source": [
    "# Adds Earth Engine dataset\n",
    "ulx = 69\n",
    "uly = 20.37\n",
    "llx = 74\n",
    "lly = 15.7\n",
    "polygon = ee.Geometry.Rectangle([ulx, lly, llx, uly])\n",
    "# ee.Geometry.Polygon([[69, 20.37], [74, 20.37], [74, 15.7], [69, 15.7], [69, 20.37]])\n",
    "collection = (ee.ImageCollection('HYCOM/sea_water_velocity').filterBounds(polygon).filterDate(datetime.datetime(2020, 11, 5), datetime.datetime(2020, 11, 15)))"
   ]
  },
  {
   "cell_type": "code",
   "execution_count": 3,
   "metadata": {
    "ExecuteTime": {
     "end_time": "2020-11-23T02:40:51.889860Z",
     "start_time": "2020-11-23T02:40:49.070699Z"
    }
   },
   "outputs": [],
   "source": [
    "image_ids = [x['id'] for x in collection.select('velocity_u_0').getInfo()['features']]"
   ]
  },
  {
   "cell_type": "code",
   "execution_count": 5,
   "metadata": {
    "ExecuteTime": {
     "end_time": "2020-11-23T02:40:53.882767Z",
     "start_time": "2020-11-23T02:40:53.873122Z"
    },
    "cell_style": "center"
   },
   "outputs": [],
   "source": [
    "# functions to calculate speed and magintude raster bands from the input image collection using GEE methods.\n",
    "def getMagnitude(image, polygon):\n",
    "    \"\"\" gives the speed magnitude of the velocity vector as m/s \"\"\"\n",
    "    uzero = image.select('velocity_u_0')\n",
    "    vzero = image.select('velocity_v_0')\n",
    "    mag = (uzero.multiply(uzero).add(vzero.multiply(vzero))).sqrt().rename('speed_0').toInt16()\n",
    "    \n",
    "    return image.addBands([mag])\n",
    "\n",
    "def getDirection(image, polygon):\n",
    "    \"\"\" gives the angle of velocity direction with respect to true north in the clockwise direction (0-360) \"\"\"\n",
    "    uzero = image.select('velocity_u_0')\n",
    "    vzero = image.select('velocity_v_0')\n",
    "    angle = (uzero.atan2(vzero).multiply(57.29577)).rename('direction_0')\n",
    "    angle = angle.where(angle.lt(0), angle.add(360))\n",
    "    angle = angle.where(angle.gt(90), angle.subtract(450).multiply(-1))\n",
    "    angle = angle.where(angle.lte(90), angle.subtract(90).multiply(-1)).toInt16()\n",
    "    \n",
    "    return image.addBands([angle])\n",
    "\n",
    "def combineRaster(image):\n",
    "    \"\"\" combines the bands of u, v velocity components with the newly calculated speed magnitude and direction in a separate raster\"\"\"\n",
    "    uzero = ee.Image(image.select('velocity_u_0'))\n",
    "    vzero = ee.Image(image.select('velocity_v_0'))\n",
    "    mag = ee.Image(image.select('speed_0'))\n",
    "    angle = ee.Image(image.select('direction_0'))\n",
    "    combined = ee.Image.cat([uzero, vzero, mag, angle])\n",
    "    \n",
    "    return combined\n",
    "    "
   ]
  },
  {
   "cell_type": "code",
   "execution_count": 81,
   "metadata": {
    "ExecuteTime": {
     "end_time": "2020-11-23T04:28:07.541444Z",
     "start_time": "2020-11-23T04:28:07.533741Z"
    }
   },
   "outputs": [],
   "source": [
    "def download_url(url, resol, default_path='../DataOutput/'):\n",
    "    \"\"\" Iterate through file chunks and download the file to local. \"\"\"\n",
    "    \n",
    "    cd = os.path.join(default_path, resol)\n",
    "    if not os.path.exists(cd):\n",
    "        os.makedirs(cd)\n",
    "\n",
    "    r = requests.get(url, stream=True)\n",
    "    filename = r.headers['Content-disposition'].split('=')[-1]\n",
    "    path = os.path.join(cd, filename)\n",
    "\n",
    "    with open(path, 'wb') as f:\n",
    "        for chunk in r.iter_content(chunk_size=1024):\n",
    "            if chunk:\n",
    "                f.write(chunk)\n",
    "                f.flush()\n",
    "    return path"
   ]
  },
  {
   "cell_type": "code",
   "execution_count": 73,
   "metadata": {
    "ExecuteTime": {
     "end_time": "2020-11-23T04:23:09.287599Z",
     "start_time": "2020-11-23T04:13:42.362380Z"
    },
    "scrolled": true
   },
   "outputs": [
    {
     "data": {
      "application/vnd.jupyter.widget-view+json": {
       "model_id": "875e2d029be04b6384dce8dc61d8e54f",
       "version_major": 2,
       "version_minor": 0
      },
      "text/plain": [
       "Output()"
      ]
     },
     "metadata": {},
     "output_type": "display_data"
    }
   ],
   "source": [
    "def main(img):\n",
    "    \"\"\" Fetch the images by id and run the calculations, before exporting the combined raster to both Drive and Local.\"\"\"\n",
    "    \n",
    "    image = ee.Image(img)\n",
    "    image = getMagnitude(image, polygon)\n",
    "    image = getDirection(image, polygon)\n",
    "    image = image.clip(polygon)\n",
    "    output = combineRaster(image)\n",
    "    \n",
    "    date = img.split('/')[-1]\n",
    "    # download data for different resolutions by scaling\n",
    "    scale = {'0.08deg':'', '5km':{'scale':5000}, '10km':{'scale':10000}}\n",
    "    for key, val in scale.items():\n",
    "        url = output.getDownloadURL() if key == '0.08deg' else output.getDownloadURL(params=val)\n",
    "        path = download_url(url, key)\n",
    "\n",
    "        # images will be exported to the Drive as GeoTiff to the default My Drive folder with `task_name`\n",
    "#     task_name = f\"hycom_swv_{date}\"\n",
    "#     task = ee.batch.Export.image.toDrive(output, task_name)\n",
    "#     task.start()\n",
    "    return output\n",
    "\n",
    "output_collection = [main(img) for img in track(image_ids, description='Calculating Speed and Direction for Raster ROI.')]"
   ]
  },
  {
   "cell_type": "code",
   "execution_count": 74,
   "metadata": {
    "ExecuteTime": {
     "end_time": "2020-11-23T04:23:43.549406Z",
     "start_time": "2020-11-23T04:23:37.255792Z"
    },
    "cell_style": "center"
   },
   "outputs": [
    {
     "data": {
      "application/vnd.jupyter.widget-view+json": {
       "model_id": "69888da3973c47d2bca5ef4a5f5c1fc5",
       "version_major": 2,
       "version_minor": 0
      },
      "text/plain": [
       "Output()"
      ]
     },
     "metadata": {},
     "output_type": "display_data"
    }
   ],
   "source": [
    "# Unzip and delete zip file outputs and combine speed and direction rasters separately\n",
    "extension = '.zip'\n",
    "files = glob('../DataOutput/*/*.zip')\n",
    "for item in track(files, description='Unzipping files:'):\n",
    "    if item.endswith(extension):\n",
    "        zip_ref = zipfile.ZipFile(item) \n",
    "        zip_ref.extractall(os.path.dirname(item))\n",
    "        zip_ref.close()\n",
    "        os.remove(item)"
   ]
  },
  {
   "cell_type": "markdown",
   "metadata": {},
   "source": [
    "## Visualization"
   ]
  },
  {
   "cell_type": "markdown",
   "metadata": {
    "ExecuteTime": {
     "end_time": "2020-11-23T03:29:53.126849Z",
     "start_time": "2020-11-23T03:29:48.901445Z"
    }
   },
   "source": [
    "### Creates an interactive map of Raw data"
   ]
  },
  {
   "cell_type": "code",
   "execution_count": 75,
   "metadata": {
    "ExecuteTime": {
     "end_time": "2020-11-23T04:24:23.115027Z",
     "start_time": "2020-11-23T04:24:18.882088Z"
    }
   },
   "outputs": [],
   "source": [
    "Map1 = emap.Map(center=[18,72], zoom=3)"
   ]
  },
  {
   "cell_type": "code",
   "execution_count": 76,
   "metadata": {
    "ExecuteTime": {
     "end_time": "2020-11-23T04:24:23.641806Z",
     "start_time": "2020-11-23T04:24:23.117843Z"
    }
   },
   "outputs": [
    {
     "data": {
      "application/vnd.jupyter.widget-view+json": {
       "model_id": "634ba89ea3d742e3963393f3332ef6b1",
       "version_major": 2,
       "version_minor": 0
      },
      "text/plain": [
       "Map(center=[18, 72], controls=(WidgetControl(options=['position'], widget=HBox(children=(ToggleButton(value=Fa…"
      ]
     },
     "metadata": {},
     "output_type": "display_data"
    },
    {
     "name": "stdout",
     "output_type": "stream",
     "text": [
      "Element.toDictionary: Parameter 'element' is required.\n"
     ]
    }
   ],
   "source": [
    "# Sets visualization parameters for base data.\n",
    "vis_params = {\n",
    "    'min': -1000,\n",
    "    'max': 4000,\n",
    "    'bands' : ['velocity_u_0', 'velocity_v_0', 'velocity_v_0']\n",
    "}\n",
    "\n",
    "# Adds Earth Engine layers to Map\n",
    "Map1.addLayer(collection, vis_params, 'Ocean Currents', True, 1)\n",
    "Map1.addLayerControl()\n",
    "Map1"
   ]
  },
  {
   "cell_type": "code",
   "execution_count": 77,
   "metadata": {
    "ExecuteTime": {
     "end_time": "2020-11-23T04:24:24.608104Z",
     "start_time": "2020-11-23T04:24:24.604546Z"
    }
   },
   "outputs": [],
   "source": [
    "out_collection = ee.ImageCollection.fromImages(output_collection)"
   ]
  },
  {
   "cell_type": "code",
   "execution_count": 78,
   "metadata": {
    "ExecuteTime": {
     "end_time": "2020-11-23T04:24:25.274340Z",
     "start_time": "2020-11-23T04:24:25.269613Z"
    }
   },
   "outputs": [],
   "source": [
    "directionImg = out_collection.select('direction_0') # all direction raster bands from 2020-11-05 to 2020-11-14\n",
    "speedImg = out_collection.select('speed_0') # all speed raster bands from 2020-11-05 to 2020-11-14"
   ]
  },
  {
   "cell_type": "markdown",
   "metadata": {},
   "source": [
    "### Creates an interactive map of Direction rasters"
   ]
  },
  {
   "cell_type": "code",
   "execution_count": 79,
   "metadata": {
    "ExecuteTime": {
     "end_time": "2020-11-23T04:24:31.115379Z",
     "start_time": "2020-11-23T04:24:26.640515Z"
    }
   },
   "outputs": [],
   "source": [
    "Map2 = emap.Map(center=[18,72], zoom=7)"
   ]
  },
  {
   "cell_type": "code",
   "execution_count": 80,
   "metadata": {
    "ExecuteTime": {
     "end_time": "2020-11-23T04:24:36.257536Z",
     "start_time": "2020-11-23T04:24:31.118089Z"
    }
   },
   "outputs": [
    {
     "data": {
      "application/vnd.jupyter.widget-view+json": {
       "model_id": "a8549780dafe423380671a02246ab4fb",
       "version_major": 2,
       "version_minor": 0
      },
      "text/plain": [
       "Map(center=[18, 72], controls=(WidgetControl(options=['position'], widget=HBox(children=(ToggleButton(value=Fa…"
      ]
     },
     "metadata": {},
     "output_type": "display_data"
    }
   ],
   "source": [
    "# Color Palette RdYlGn : green - min, red - max\n",
    "Map2.addLayer(directionImg, \n",
    "              {\n",
    "                  'min': 0, \n",
    "                   'max':360, \n",
    "                   'palette': [\"a50026\",\"d73027\",\"f46d43\",\"fdae61\",\"fee08b\",\"d9ef8b\",\"a6d96a\",\"66bd63\",\"1a9850\",\"006837\"]\n",
    "              }, \n",
    "              'Direction', True, 1)\n",
    "\n",
    "# Display the Map\n",
    "Map2.addLayerControl()\n",
    "Map2"
   ]
  },
  {
   "cell_type": "markdown",
   "metadata": {},
   "source": [
    "### Creates an interactive map of Speed rasters"
   ]
  },
  {
   "cell_type": "code",
   "execution_count": 61,
   "metadata": {
    "ExecuteTime": {
     "end_time": "2020-11-23T03:52:13.684575Z",
     "start_time": "2020-11-23T03:52:09.477977Z"
    }
   },
   "outputs": [],
   "source": [
    "Map3 = emap.Map(center=[18,72], zoom=7)"
   ]
  },
  {
   "cell_type": "code",
   "execution_count": 63,
   "metadata": {
    "ExecuteTime": {
     "end_time": "2020-11-23T03:53:29.057090Z",
     "start_time": "2020-11-23T03:53:23.538975Z"
    }
   },
   "outputs": [
    {
     "data": {
      "application/vnd.jupyter.widget-view+json": {
       "model_id": "b660d57b7f354482818466aeb45a4998",
       "version_major": 2,
       "version_minor": 0
      },
      "text/plain": [
       "Map(center=[18, 72], controls=(WidgetControl(options=['position'], widget=HBox(children=(ToggleButton(value=Fa…"
      ]
     },
     "metadata": {},
     "output_type": "display_data"
    }
   ],
   "source": [
    "# Color Palette RdYlGn : green - min, red - max\n",
    "Map3.addLayer(speedImg, \n",
    "              {\n",
    "                  'min': -100, \n",
    "                   'max': 1000, \n",
    "                   'palette': [\"a50026\",\"d73027\",\"f46d43\",\"fdae61\",\"fee08b\",\"d9ef8b\",\"a6d96a\",\"66bd63\",\"1a9850\",\"006837\"]\n",
    "              }, \n",
    "              'Speed', True, 1)\n",
    "\n",
    "# Display the Map\n",
    "Map3.addLayerControl()\n",
    "Map3"
   ]
  },
  {
   "cell_type": "code",
   "execution_count": null,
   "metadata": {},
   "outputs": [],
   "source": []
  }
 ],
 "metadata": {
  "kernelspec": {
   "display_name": "Python 3.7.6 64-bit ('base': conda)",
   "language": "python",
   "name": "python37664bitbaseconda47a6c655b9294ac8bad830080d3ea390"
  },
  "language_info": {
   "codemirror_mode": {
    "name": "ipython",
    "version": 3
   },
   "file_extension": ".py",
   "mimetype": "text/x-python",
   "name": "python",
   "nbconvert_exporter": "python",
   "pygments_lexer": "ipython3",
   "version": "3.7.6"
  },
  "latex_envs": {
   "LaTeX_envs_menu_present": true,
   "autoclose": true,
   "autocomplete": true,
   "bibliofile": "biblio.bib",
   "cite_by": "apalike",
   "current_citInitial": 1,
   "eqLabelWithNumbers": true,
   "eqNumInitial": 1,
   "hotkeys": {
    "equation": "Ctrl-E",
    "itemize": "Ctrl-I"
   },
   "labels_anchors": false,
   "latex_user_defs": false,
   "report_style_numbering": false,
   "user_envs_cfg": false
  }
 },
 "nbformat": 4,
 "nbformat_minor": 2
}
