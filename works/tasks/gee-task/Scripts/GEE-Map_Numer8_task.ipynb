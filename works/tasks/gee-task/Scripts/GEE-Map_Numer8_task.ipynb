{
 "cells": [
  {
   "cell_type": "code",
   "execution_count": 1,
   "metadata": {
    "ExecuteTime": {
     "end_time": "2020-11-23T04:39:24.013013Z",
     "start_time": "2020-11-23T04:39:15.951292Z"
    },
    "cell_style": "center"
   },
   "outputs": [],
   "source": [
    "# Import geemap for mapping\n",
    "import subprocess\n",
    "\n",
    "try:\n",
    "    import geemap\n",
    "except ImportError:\n",
    "    print('geemap package not installed. Installing ...')\n",
    "    subprocess.check_call([\"python\", '-m', 'pip', 'install', 'geemap'])\n",
    "\n",
    "try:\n",
    "    import google.colab\n",
    "    import geemap.eefolium as emap\n",
    "except:\n",
    "    import geemap as emap\n",
    "\n",
    "# Authenticates and initializes Earth Engine\n",
    "import ee\n",
    "import datetime\n",
    "\n",
    "try:\n",
    "    ee.Initialize()\n",
    "except Exception as e:\n",
    "    ee.Authenticate()\n",
    "    ee.Initialize()\n",
    "\n",
    "import os\n",
    "from glob import glob\n",
    "from rich.progress import track\n",
    "import zipfile"
   ]
  },
  {
   "cell_type": "code",
   "execution_count": 2,
   "metadata": {
    "ExecuteTime": {
     "end_time": "2020-11-23T04:39:24.616489Z",
     "start_time": "2020-11-23T04:39:24.611243Z"
    }
   },
   "outputs": [],
   "source": [
    "# Adds Earth Engine dataset\n",
    "ulx = 69\n",
    "uly = 20.37\n",
    "llx = 74\n",
    "lly = 15.7\n",
    "polygon = ee.Geometry.Rectangle([ulx, lly, llx, uly])\n",
    "# ee.Geometry.Polygon([[69, 20.37], [74, 20.37], [74, 15.7], [69, 15.7], [69, 20.37]])\n",
    "collection = (ee.ImageCollection('HYCOM/sea_water_velocity').filterBounds(polygon).filterDate(datetime.datetime(2020, 11, 5), datetime.datetime(2020, 11, 15)))"
   ]
  },
  {
   "cell_type": "code",
   "execution_count": 3,
   "metadata": {
    "ExecuteTime": {
     "end_time": "2020-11-23T04:39:25.652256Z",
     "start_time": "2020-11-23T04:39:25.239436Z"
    }
   },
   "outputs": [],
   "source": [
    "image_ids = [x['id'] for x in collection.select('velocity_u_0').getInfo()['features']]"
   ]
  },
  {
   "cell_type": "code",
   "execution_count": 4,
   "metadata": {
    "ExecuteTime": {
     "end_time": "2020-11-23T04:39:26.332859Z",
     "start_time": "2020-11-23T04:39:26.312857Z"
    },
    "cell_style": "center"
   },
   "outputs": [],
   "source": [
    "# functions to calculate speed and magintude raster bands from the input image collection using GEE methods.\n",
    "def getMagnitude(image, polygon):\n",
    "    \"\"\" gives the speed magnitude of the velocity vector as m/s \"\"\"\n",
    "    uzero = image.select('velocity_u_0')\n",
    "    vzero = image.select('velocity_v_0')\n",
    "    mag = (uzero.multiply(uzero).add(vzero.multiply(vzero))).sqrt().rename('speed_0').toInt16()\n",
    "    \n",
    "    return image.addBands([mag])\n",
    "\n",
    "def getDirection(image, polygon):\n",
    "    \"\"\" gives the angle of velocity direction with respect to true north in the clockwise direction (0-360) \"\"\"\n",
    "    uzero = image.select('velocity_u_0')\n",
    "    vzero = image.select('velocity_v_0')\n",
    "    angle = (uzero.atan2(vzero).multiply(57.29577)).rename('direction_0')\n",
    "    angle = angle.where(angle.lt(0), angle.add(360))\n",
    "    angle = angle.where(angle.gt(90), angle.subtract(450).multiply(-1))\n",
    "    angle = angle.where(angle.lte(90), angle.subtract(90).multiply(-1)).toInt16()\n",
    "    \n",
    "    return image.addBands([angle])\n",
    "\n",
    "def combineRaster(image):\n",
    "    \"\"\" combines the bands of u, v velocity components with the newly calculated speed magnitude and direction in a separate raster\"\"\"\n",
    "    uzero = ee.Image(image.select('velocity_u_0'))\n",
    "    vzero = ee.Image(image.select('velocity_v_0'))\n",
    "    mag = ee.Image(image.select('speed_0'))\n",
    "    angle = ee.Image(image.select('direction_0'))\n",
    "    combined = ee.Image.cat([uzero, vzero, mag, angle])\n",
    "    \n",
    "    return combined\n",
    "    "
   ]
  },
  {
   "cell_type": "code",
   "execution_count": 5,
   "metadata": {
    "ExecuteTime": {
     "end_time": "2020-11-23T04:39:28.543059Z",
     "start_time": "2020-11-23T04:39:28.537236Z"
    }
   },
   "outputs": [],
   "source": [
    "def download_url(url, resol, default_path='../DataOutput/'):\n",
    "    \"\"\" Iterate through file chunks and download the file to local. \"\"\"\n",
    "    \n",
    "    cd = os.path.join(default_path, resol)\n",
    "    if not os.path.exists(cd):\n",
    "        os.makedirs(cd)\n",
    "\n",
    "    r = requests.get(url, stream=True)\n",
    "    filename = r.headers['Content-disposition'].split('=')[-1]\n",
    "    path = os.path.join(cd, filename)\n",
    "\n",
    "    with open(path, 'wb') as f:\n",
    "        for chunk in r.iter_content(chunk_size=1024):\n",
    "            if chunk:\n",
    "                f.write(chunk)\n",
    "                f.flush()\n",
    "    return path"
   ]
  },
  {
   "cell_type": "code",
   "execution_count": 6,
   "metadata": {
    "ExecuteTime": {
     "end_time": "2020-11-23T04:39:38.233271Z",
     "start_time": "2020-11-23T04:39:36.463306Z"
    },
    "scrolled": true
   },
   "outputs": [
    {
     "data": {
      "application/vnd.jupyter.widget-view+json": {
       "model_id": "1014a274401a49c7aad1f0b04586fc77",
       "version_major": 2,
       "version_minor": 0
      },
      "text/plain": [
       "Output()"
      ]
     },
     "metadata": {},
     "output_type": "display_data"
    }
   ],
   "source": [
    "def main(img):\n",
    "    \"\"\" Fetch the images by id and run the calculations, before exporting the combined raster to both Drive and Local.\"\"\"\n",
    "    \n",
    "    image = ee.Image(img)\n",
    "    image = getMagnitude(image, polygon)\n",
    "    image = getDirection(image, polygon)\n",
    "    image = image.clip(polygon)\n",
    "    output = combineRaster(image)\n",
    "    \n",
    "    date = img.split('/')[-1]\n",
    "    # download data for different resolutions by scaling\n",
    "    scale = {'0.08deg':'', '5km':{'scale':5000}, '10km':{'scale':10000}}\n",
    "    for key, val in scale.items():\n",
    "        url = output.getDownloadURL() if key == '0.08deg' else output.getDownloadURL(params=val)\n",
    "        path = download_url(url, key)\n",
    "\n",
    "        # images will be exported to the Drive as GeoTiff to the default My Drive folder with `task_name`\n",
    "#     task_name = f\"hycom_swv_{date}\"\n",
    "#     task = ee.batch.Export.image.toDrive(output, task_name)\n",
    "#     task.start()\n",
    "    return output\n",
    "\n",
    "output_collection = [main(img) for img in track(image_ids, description='Calculating Speed and Direction for Raster ROI.')]"
   ]
  },
  {
   "cell_type": "code",
   "execution_count": 74,
   "metadata": {
    "ExecuteTime": {
     "end_time": "2020-11-23T04:23:43.549406Z",
     "start_time": "2020-11-23T04:23:37.255792Z"
    },
    "cell_style": "center"
   },
   "outputs": [
    {
     "data": {
      "application/vnd.jupyter.widget-view+json": {
       "model_id": "69888da3973c47d2bca5ef4a5f5c1fc5",
       "version_major": 2,
       "version_minor": 0
      },
      "text/plain": [
       "Output()"
      ]
     },
     "metadata": {},
     "output_type": "display_data"
    }
   ],
   "source": [
    "# Unzip and delete zip file outputs and combine speed and direction rasters separately\n",
    "extension = '.zip'\n",
    "files = glob('../DataOutput/*/*.zip')\n",
    "for item in track(files, description='Unzipping files:'):\n",
    "    if item.endswith(extension):\n",
    "        zip_ref = zipfile.ZipFile(item) \n",
    "        zip_ref.extractall(os.path.dirname(item))\n",
    "        zip_ref.close()\n",
    "        os.remove(item)"
   ]
  },
  {
   "cell_type": "markdown",
   "metadata": {},
   "source": [
    "## Visualization"
   ]
  },
  {
   "cell_type": "markdown",
   "metadata": {
    "ExecuteTime": {
     "end_time": "2020-11-23T03:29:53.126849Z",
     "start_time": "2020-11-23T03:29:48.901445Z"
    }
   },
   "source": [
    "### Creates an interactive map of Raw data"
   ]
  },
  {
   "cell_type": "code",
   "execution_count": 7,
   "metadata": {
    "ExecuteTime": {
     "end_time": "2020-11-23T04:39:50.478833Z",
     "start_time": "2020-11-23T04:39:46.148679Z"
    }
   },
   "outputs": [],
   "source": [
    "Map1 = emap.Map(center=[18,72], zoom=3)"
   ]
  },
  {
   "cell_type": "code",
   "execution_count": 8,
   "metadata": {
    "ExecuteTime": {
     "end_time": "2020-11-23T04:39:52.947441Z",
     "start_time": "2020-11-23T04:39:51.248903Z"
    }
   },
   "outputs": [
    {
     "data": {
      "application/vnd.jupyter.widget-view+json": {
       "model_id": "0b20af39b2344e58935d8f7c9ff831cc",
       "version_major": 2,
       "version_minor": 0
      },
      "text/plain": [
       "Map(center=[18, 72], controls=(WidgetControl(options=['position'], widget=HBox(children=(ToggleButton(value=Fa…"
      ]
     },
     "metadata": {},
     "output_type": "display_data"
    }
   ],
   "source": [
    "# Sets visualization parameters for base data.\n",
    "vis_params = {\n",
    "    'min': -1000,\n",
    "    'max': 4000,\n",
    "    'bands' : ['velocity_u_0', 'velocity_v_0', 'velocity_v_0']\n",
    "}\n",
    "\n",
    "# Adds Earth Engine layers to Map\n",
    "Map1.addLayer(collection, vis_params, 'Ocean Currents', True, 1)\n",
    "Map1.addLayerControl()\n",
    "Map1"
   ]
  },
  {
   "cell_type": "code",
   "execution_count": 9,
   "metadata": {
    "ExecuteTime": {
     "end_time": "2020-11-23T04:39:57.203714Z",
     "start_time": "2020-11-23T04:39:57.199786Z"
    }
   },
   "outputs": [],
   "source": [
    "out_collection = ee.ImageCollection.fromImages(output_collection)"
   ]
  },
  {
   "cell_type": "code",
   "execution_count": 10,
   "metadata": {
    "ExecuteTime": {
     "end_time": "2020-11-23T04:39:58.198378Z",
     "start_time": "2020-11-23T04:39:58.194025Z"
    }
   },
   "outputs": [],
   "source": [
    "directionImg = out_collection.select('direction_0') # all direction raster bands from 2020-11-05 to 2020-11-14\n",
    "speedImg = out_collection.select('speed_0') # all speed raster bands from 2020-11-05 to 2020-11-14"
   ]
  },
  {
   "cell_type": "markdown",
   "metadata": {},
   "source": [
    "### Creates an interactive map of Direction rasters"
   ]
  },
  {
   "cell_type": "code",
   "execution_count": 11,
   "metadata": {
    "ExecuteTime": {
     "end_time": "2020-11-23T04:40:03.837495Z",
     "start_time": "2020-11-23T04:39:59.488814Z"
    }
   },
   "outputs": [],
   "source": [
    "Map2 = emap.Map(center=[18,72], zoom=7)"
   ]
  },
  {
   "cell_type": "code",
   "execution_count": 12,
   "metadata": {
    "ExecuteTime": {
     "end_time": "2020-11-23T04:40:09.056670Z",
     "start_time": "2020-11-23T04:40:03.841149Z"
    }
   },
   "outputs": [
    {
     "data": {
      "application/vnd.jupyter.widget-view+json": {
       "model_id": "2c5d55e9371e4c12a2635eab72900f23",
       "version_major": 2,
       "version_minor": 0
      },
      "text/plain": [
       "Map(center=[18, 72], controls=(WidgetControl(options=['position'], widget=HBox(children=(ToggleButton(value=Fa…"
      ]
     },
     "metadata": {},
     "output_type": "display_data"
    }
   ],
   "source": [
    "# Color Palette RdYlGn : green - min, red - max\n",
    "Map2.addLayer(directionImg, \n",
    "              {\n",
    "                  'min': 0, \n",
    "                   'max':360, \n",
    "                   'palette': [\"a50026\",\"d73027\",\"f46d43\",\"fdae61\",\"fee08b\",\"d9ef8b\",\"a6d96a\",\"66bd63\",\"1a9850\",\"006837\"]\n",
    "              }, \n",
    "              'Direction', True, 1)\n",
    "\n",
    "# Display the Map\n",
    "Map2.addLayerControl()\n",
    "Map2"
   ]
  },
  {
   "cell_type": "markdown",
   "metadata": {},
   "source": [
    "### Creates an interactive map of Speed rasters"
   ]
  },
  {
   "cell_type": "code",
   "execution_count": 13,
   "metadata": {
    "ExecuteTime": {
     "end_time": "2020-11-23T04:40:13.891089Z",
     "start_time": "2020-11-23T04:40:09.059790Z"
    }
   },
   "outputs": [],
   "source": [
    "Map3 = emap.Map(center=[18,72], zoom=7)"
   ]
  },
  {
   "cell_type": "code",
   "execution_count": 14,
   "metadata": {
    "ExecuteTime": {
     "end_time": "2020-11-23T04:40:19.180682Z",
     "start_time": "2020-11-23T04:40:13.894308Z"
    }
   },
   "outputs": [
    {
     "data": {
      "application/vnd.jupyter.widget-view+json": {
       "model_id": "4aaab1f5c33846ad810bc2ff5e3a0898",
       "version_major": 2,
       "version_minor": 0
      },
      "text/plain": [
       "Map(center=[18, 72], controls=(WidgetControl(options=['position'], widget=HBox(children=(ToggleButton(value=Fa…"
      ]
     },
     "metadata": {},
     "output_type": "display_data"
    }
   ],
   "source": [
    "# Color Palette RdYlGn : green - min, red - max\n",
    "Map3.addLayer(speedImg, \n",
    "              {\n",
    "                  'min': -100, \n",
    "                   'max': 1000, \n",
    "                   'palette': [\"a50026\",\"d73027\",\"f46d43\",\"fdae61\",\"fee08b\",\"d9ef8b\",\"a6d96a\",\"66bd63\",\"1a9850\",\"006837\"]\n",
    "              }, \n",
    "              'Speed', True, 1)\n",
    "\n",
    "# Display the Map\n",
    "Map3.addLayerControl()\n",
    "Map3"
   ]
  },
  {
   "cell_type": "code",
   "execution_count": null,
   "metadata": {},
   "outputs": [],
   "source": []
  }
 ],
 "metadata": {
  "kernelspec": {
   "display_name": "Python 3.7.6 64-bit ('base': conda)",
   "language": "python",
   "name": "python37664bitbaseconda47a6c655b9294ac8bad830080d3ea390"
  },
  "language_info": {
   "codemirror_mode": {
    "name": "ipython",
    "version": 3
   },
   "file_extension": ".py",
   "mimetype": "text/x-python",
   "name": "python",
   "nbconvert_exporter": "python",
   "pygments_lexer": "ipython3",
   "version": "3.7.6"
  },
  "latex_envs": {
   "LaTeX_envs_menu_present": true,
   "autoclose": true,
   "autocomplete": true,
   "bibliofile": "biblio.bib",
   "cite_by": "apalike",
   "current_citInitial": 1,
   "eqLabelWithNumbers": true,
   "eqNumInitial": 1,
   "hotkeys": {
    "equation": "Ctrl-E",
    "itemize": "Ctrl-I"
   },
   "labels_anchors": false,
   "latex_user_defs": false,
   "report_style_numbering": false,
   "user_envs_cfg": false
  }
 },
 "nbformat": 4,
 "nbformat_minor": 2
}
